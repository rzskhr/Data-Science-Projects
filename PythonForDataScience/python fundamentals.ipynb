{
 "cells": [
  {
   "cell_type": "code",
   "execution_count": 7,
   "metadata": {
    "collapsed": false
   },
   "outputs": [],
   "source": [
    "import csv\n",
    "\n",
    "#%precision 2    #uncomment if you want to limit the floating value to 2\n",
    "\n",
    "with open('auto-mpg.csv') as dataset:\n",
    "    mpg = list(csv.DictReader(dataset))"
   ]
  },
  {
   "cell_type": "code",
   "execution_count": 2,
   "metadata": {
    "collapsed": false
   },
   "outputs": [
    {
     "data": {
      "text/plain": [
       "<_io.TextIOWrapper name='auto-mpg.csv' mode='r' encoding='UTF-8'>"
      ]
     },
     "execution_count": 2,
     "metadata": {},
     "output_type": "execute_result"
    }
   ],
   "source": [
    "dataset"
   ]
  },
  {
   "cell_type": "code",
   "execution_count": 3,
   "metadata": {
    "collapsed": false
   },
   "outputs": [
    {
     "data": {
      "text/plain": [
       "[{'accel': '12',\n",
       "  'cyl': '8',\n",
       "  'displ': '307',\n",
       "  'hp': '130',\n",
       "  'mpg': '18',\n",
       "  'name': 'chevrolet chevelle malibu',\n",
       "  'origin': '1',\n",
       "  'weight': '3504',\n",
       "  'yr': '70'},\n",
       " {'accel': '11.5',\n",
       "  'cyl': '8',\n",
       "  'displ': '350',\n",
       "  'hp': '165',\n",
       "  'mpg': '15',\n",
       "  'name': 'buick skylark 320',\n",
       "  'origin': '1',\n",
       "  'weight': '3693',\n",
       "  'yr': '70'},\n",
       " {'accel': '11',\n",
       "  'cyl': '8',\n",
       "  'displ': '318',\n",
       "  'hp': '150',\n",
       "  'mpg': '18',\n",
       "  'name': 'plymouth satellite',\n",
       "  'origin': '1',\n",
       "  'weight': '3436',\n",
       "  'yr': '70'}]"
      ]
     },
     "execution_count": 3,
     "metadata": {},
     "output_type": "execute_result"
    }
   ],
   "source": [
    "mpg[:3] # The first three dictionaries in our list."
   ]
  },
  {
   "cell_type": "code",
   "execution_count": 4,
   "metadata": {
    "collapsed": false
   },
   "outputs": [
    {
     "data": {
      "text/plain": [
       "392"
      ]
     },
     "execution_count": 4,
     "metadata": {},
     "output_type": "execute_result"
    }
   ],
   "source": [
    "len(mpg)"
   ]
  },
  {
   "cell_type": "code",
   "execution_count": 5,
   "metadata": {
    "collapsed": false
   },
   "outputs": [
    {
     "data": {
      "text/plain": [
       "dict_keys(['yr', 'accel', 'mpg', 'cyl', 'name', 'hp', 'origin', 'displ', 'weight'])"
      ]
     },
     "execution_count": 5,
     "metadata": {},
     "output_type": "execute_result"
    }
   ],
   "source": [
    "mpg[0].keys()"
   ]
  },
  {
   "cell_type": "code",
   "execution_count": 6,
   "metadata": {
    "collapsed": false
   },
   "outputs": [
    {
     "data": {
      "text/plain": [
       "23.44591836734694"
      ]
     },
     "execution_count": 6,
     "metadata": {},
     "output_type": "execute_result"
    }
   ],
   "source": [
    "sum(float(d['mpg']) for d in mpg)/len(mpg)      #average mpg"
   ]
  },
  {
   "cell_type": "code",
   "execution_count": 8,
   "metadata": {
    "collapsed": false
   },
   "outputs": [
    {
     "data": {
      "text/plain": [
       "2977.5841836734694"
      ]
     },
     "execution_count": 8,
     "metadata": {},
     "output_type": "execute_result"
    }
   ],
   "source": [
    "sum(float(d['weight']) for d in mpg)/len(mpg)   #average weight"
   ]
  },
  {
   "cell_type": "code",
   "execution_count": 9,
   "metadata": {
    "collapsed": false
   },
   "outputs": [
    {
     "data": {
      "text/plain": [
       "{'3', '4', '5', '6', '8'}"
      ]
     },
     "execution_count": 9,
     "metadata": {},
     "output_type": "execute_result"
    }
   ],
   "source": [
    "cylinders = set(i['cyl'] for i in mpg)     #store the unique cylinders in a set \n",
    "cylinders"
   ]
  },
  {
   "cell_type": "code",
   "execution_count": 10,
   "metadata": {
    "collapsed": false
   },
   "outputs": [
    {
     "data": {
      "text/plain": [
       "['subaru',\n",
       " 'chrysler lebaron salon',\n",
       " 'saab 99le',\n",
       " 'plymouth valiant custom',\n",
       " 'oldsmobile cutlass ls',\n",
       " 'plymouth arrow gs',\n",
       " 'dodge rampage',\n",
       " 'buick century limited',\n",
       " 'ford fairmont 4',\n",
       " 'toyota carina']"
      ]
     },
     "execution_count": 10,
     "metadata": {},
     "output_type": "execute_result"
    }
   ],
   "source": [
    "abc = list(set(j['name'] for j in mpg))      #store the names in a list\n",
    "abc[-20:-10]"
   ]
  },
  {
   "cell_type": "code",
   "execution_count": 16,
   "metadata": {
    "collapsed": false
   },
   "outputs": [
    {
     "data": {
      "text/plain": [
       "93"
      ]
     },
     "execution_count": 16,
     "metadata": {},
     "output_type": "execute_result"
    }
   ],
   "source": [
    "horsepower = set(k['hp'] for k in mpg)   # if you want to store hp's in a set(elements in sets are unique)\n",
    "horsepower\n",
    "len(horsepower)"
   ]
  },
  {
   "cell_type": "code",
   "execution_count": 17,
   "metadata": {
    "collapsed": false
   },
   "outputs": [
    {
     "data": {
      "text/plain": [
       "dict_keys(['yr', 'accel', 'mpg', 'cyl', 'name', 'hp', 'origin', 'displ', 'weight'])"
      ]
     },
     "execution_count": 17,
     "metadata": {},
     "output_type": "execute_result"
    }
   ],
   "source": [
    "mpg[0].keys()"
   ]
  },
  {
   "cell_type": "code",
   "execution_count": 18,
   "metadata": {
    "collapsed": false
   },
   "outputs": [
    {
     "data": {
      "text/plain": [
       "392"
      ]
     },
     "execution_count": 18,
     "metadata": {},
     "output_type": "execute_result"
    }
   ],
   "source": [
    "len(mpg)"
   ]
  },
  {
   "cell_type": "code",
   "execution_count": 19,
   "metadata": {
    "collapsed": false
   },
   "outputs": [
    {
     "data": {
      "text/plain": [
       "[{'accel': '19.4',\n",
       "  'cyl': '4',\n",
       "  'displ': '119',\n",
       "  'hp': '82',\n",
       "  'mpg': '31',\n",
       "  'name': 'chevy s-10',\n",
       "  'origin': '1',\n",
       "  'weight': '2720',\n",
       "  'yr': '82'}]"
      ]
     },
     "execution_count": 19,
     "metadata": {},
     "output_type": "execute_result"
    }
   ],
   "source": [
    "mpg[391:]"
   ]
  },
  {
   "cell_type": "code",
   "execution_count": 20,
   "metadata": {
    "collapsed": false
   },
   "outputs": [
    {
     "data": {
      "text/plain": [
       "{'1', '2', '3'}"
      ]
     },
     "execution_count": 20,
     "metadata": {},
     "output_type": "execute_result"
    }
   ],
   "source": [
    "originOfTheCar = set(l['origin'] for l in mpg)\n",
    "originOfTheCar"
   ]
  },
  {
   "cell_type": "code",
   "execution_count": 21,
   "metadata": {
    "collapsed": false
   },
   "outputs": [
    {
     "data": {
      "text/plain": [
       "['1', '3', '2']"
      ]
     },
     "execution_count": 21,
     "metadata": {},
     "output_type": "execute_result"
    }
   ],
   "source": [
    "originOfTheCarAsList = list(originOfTheCar)\n",
    "originOfTheCarAsList"
   ]
  },
  {
   "cell_type": "code",
   "execution_count": 22,
   "metadata": {
    "collapsed": false
   },
   "outputs": [
    {
     "data": {
      "text/plain": [
       "{'3', '4', '5', '6', '8'}"
      ]
     },
     "execution_count": 22,
     "metadata": {},
     "output_type": "execute_result"
    }
   ],
   "source": [
    "cylinders"
   ]
  },
  {
   "cell_type": "code",
   "execution_count": 23,
   "metadata": {
    "collapsed": false
   },
   "outputs": [
    {
     "name": "stdout",
     "output_type": "stream",
     "text": [
      "4\n",
      "3\n",
      "6\n",
      "8\n",
      "5\n"
     ]
    }
   ],
   "source": [
    "for c in cylinders:\n",
    "    print(c)"
   ]
  },
  {
   "cell_type": "markdown",
   "metadata": {},
   "source": [
    "### grouping the cars by number of cylinder, and finding the average mpg for each group"
   ]
  },
  {
   "cell_type": "code",
   "execution_count": 24,
   "metadata": {
    "collapsed": false
   },
   "outputs": [
    {
     "data": {
      "text/plain": [
       "[('4', 29.283919597989957),\n",
       " ('3', 20.55),\n",
       " ('6', 19.973493975903615),\n",
       " ('8', 14.963106796116508),\n",
       " ('5', 27.366666666666664)]"
      ]
     },
     "execution_count": 24,
     "metadata": {},
     "output_type": "execute_result"
    }
   ],
   "source": [
    "mpgByCyl = []\n",
    "\n",
    "for i in cylinders:\n",
    "    summpg = 0\n",
    "    cylTypeCount = 0\n",
    "    for j in mpg:\n",
    "        if j['cyl'] == i:\n",
    "            summpg += float(j['mpg'])\n",
    "            cylTypeCount += 1\n",
    "    mpgByCyl.append((i, summpg / cylTypeCount))\n",
    "    \n",
    "mpgByCyl"
   ]
  },
  {
   "cell_type": "code",
   "execution_count": 25,
   "metadata": {
    "collapsed": false
   },
   "outputs": [
    {
     "data": {
      "text/plain": [
       "[('3', 20.55),\n",
       " ('4', 29.283919597989957),\n",
       " ('5', 27.366666666666664),\n",
       " ('6', 19.973493975903615),\n",
       " ('8', 14.963106796116508)]"
      ]
     },
     "execution_count": 25,
     "metadata": {},
     "output_type": "execute_result"
    }
   ],
   "source": [
    "mpgByCyl.sort(key=lambda x:x[0])     ##sort by cylinder\n",
    "mpgByCyl"
   ]
  },
  {
   "cell_type": "markdown",
   "metadata": {
    "collapsed": true
   },
   "source": [
    "##  Some operations on data "
   ]
  },
  {
   "cell_type": "markdown",
   "metadata": {},
   "source": [
    "Class in pyton"
   ]
  },
  {
   "cell_type": "code",
   "execution_count": 29,
   "metadata": {
    "collapsed": true
   },
   "outputs": [],
   "source": [
    "class College:    #class name\n",
    "    collegeName = 'Illinois Tech'    #a class variable\n",
    "    \n",
    "    #define a method in the class\n",
    "    def set_name(thisVariable, variableForName):\n",
    "        thisVariable.name = variableForName\n",
    "    #define another methd\n",
    "    def set_deparment(thisVariable, variableForDept):\n",
    "        thisVariable.dept = variableForDept"
   ]
  },
  {
   "cell_type": "code",
   "execution_count": 30,
   "metadata": {
    "collapsed": false
   },
   "outputs": [
    {
     "name": "stdout",
     "output_type": "stream",
     "text": [
      "Raj Dutta is enrolled in Computer Science department in Illinois Tech University\n"
     ]
    }
   ],
   "source": [
    "college = College()\n",
    "college.set_name('Raj Dutta')\n",
    "college.set_deparment('Computer Science')\n",
    "print('{} is enrolled in {} department in {} University'.format(college.name, college.dept, college.collegeName))\n"
   ]
  },
  {
   "cell_type": "markdown",
   "metadata": {},
   "source": [
    "## Example of mapping, by comparing two list"
   ]
  },
  {
   "cell_type": "code",
   "execution_count": 50,
   "metadata": {
    "collapsed": false
   },
   "outputs": [
    {
     "data": {
      "text/plain": [
       "<map at 0x106320b00>"
      ]
     },
     "execution_count": 50,
     "metadata": {},
     "output_type": "execute_result"
    }
   ],
   "source": [
    "store1 = [10.00, 11.00, 12.34, 2.34]\n",
    "store2 = [9.00, 11.10, 12.34, 2.01]\n",
    "cheapest = map(min, store1, store2)     #parameter is function and two lists\n",
    "cheapest"
   ]
  },
  {
   "cell_type": "code",
   "execution_count": 51,
   "metadata": {
    "collapsed": false
   },
   "outputs": [
    {
     "name": "stdout",
     "output_type": "stream",
     "text": [
      "9.0\n",
      "11.0\n",
      "12.34\n",
      "2.01\n"
     ]
    }
   ],
   "source": [
    "#we can also iterate through the map object to see the values\n",
    "for i in cheapest:\n",
    "    print(i)"
   ]
  },
  {
   "cell_type": "code",
   "execution_count": 52,
   "metadata": {
    "collapsed": false
   },
   "outputs": [
    {
     "data": {
      "text/plain": [
       "246"
      ]
     },
     "execution_count": 52,
     "metadata": {},
     "output_type": "execute_result"
    }
   ],
   "source": [
    "my_function = lambda a, b, c : a + b\n",
    "my_function(123, 123, 234)"
   ]
  },
  {
   "cell_type": "markdown",
   "metadata": {},
   "source": [
    "Operations on lists"
   ]
  },
  {
   "cell_type": "code",
   "execution_count": 64,
   "metadata": {
    "collapsed": false
   },
   "outputs": [
    {
     "data": {
      "text/plain": [
       "[0, 2, 4, 6, 8, 10, 12, 14, 16, 18]"
      ]
     },
     "execution_count": 64,
     "metadata": {},
     "output_type": "execute_result"
    }
   ],
   "source": [
    "listOfEvenNumbers = []\n",
    "\n",
    "for i in range(0, 1000):\n",
    "    if i%2 == 0:\n",
    "        listOfEvenNumbers.append(i)\n",
    "listOfEvenNumbers[:10]"
   ]
  },
  {
   "cell_type": "markdown",
   "metadata": {},
   "source": [
    "<b>This is called the list comprehension:</b>"
   ]
  },
  {
   "cell_type": "code",
   "execution_count": 65,
   "metadata": {
    "collapsed": false
   },
   "outputs": [
    {
     "data": {
      "text/plain": [
       "[0, 2, 4, 6, 8, 10, 12, 14, 16, 18]"
      ]
     },
     "execution_count": 65,
     "metadata": {},
     "output_type": "execute_result"
    }
   ],
   "source": [
    "easyList = [i for i in range(0,1000) if i%2==0]\n",
    "easyList[:10]"
   ]
  },
  {
   "cell_type": "code",
   "execution_count": 69,
   "metadata": {
    "collapsed": false
   },
   "outputs": [
    {
     "data": {
      "text/plain": [
       "['4', '3', '6', '8', '5']"
      ]
     },
     "execution_count": 69,
     "metadata": {},
     "output_type": "execute_result"
    }
   ],
   "source": [
    "a = [i for i in cylinders]\n",
    "a"
   ]
  },
  {
   "cell_type": "code",
   "execution_count": null,
   "metadata": {
    "collapsed": true
   },
   "outputs": [],
   "source": []
  }
 ],
 "metadata": {
  "anaconda-cloud": {},
  "kernelspec": {
   "display_name": "Python [Root]",
   "language": "python",
   "name": "Python [Root]"
  },
  "language_info": {
   "codemirror_mode": {
    "name": "ipython",
    "version": 3
   },
   "file_extension": ".py",
   "mimetype": "text/x-python",
   "name": "python",
   "nbconvert_exporter": "python",
   "pygments_lexer": "ipython3",
   "version": "3.5.2"
  }
 },
 "nbformat": 4,
 "nbformat_minor": 0
}
