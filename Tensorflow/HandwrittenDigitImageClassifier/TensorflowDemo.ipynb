{
 "cells": [
  {
   "cell_type": "code",
   "execution_count": 1,
   "metadata": {
    "collapsed": true
   },
   "outputs": [],
   "source": [
    "# Import tensorflow\n",
    "import tensorflow as tf"
   ]
  },
  {
   "cell_type": "code",
   "execution_count": 2,
   "metadata": {},
   "outputs": [
    {
     "name": "stdout",
     "output_type": "stream",
     "text": [
      "Extracting /Users/Raj/Root/Code/TF/data/train-images-idx3-ubyte.gz\n",
      "Extracting /Users/Raj/Root/Code/TF/data/train-labels-idx1-ubyte.gz\n",
      "Extracting /Users/Raj/Root/Code/TF/data/t10k-images-idx3-ubyte.gz\n",
      "Extracting /Users/Raj/Root/Code/TF/data/t10k-labels-idx1-ubyte.gz\n"
     ]
    }
   ],
   "source": [
    "# Importing the hand written digit data set\n",
    "# input_data class is a standard python class which \n",
    "#      - Downloads the dataset \n",
    "#      - Splits into training and testing data \n",
    "#      - and formats the data\n",
    "\n",
    "# Forked from https://github.com/tensorflow/tensorflow/blob/master/tensorflow/examples/tutorials/mnist/input_data.py\n",
    "\n",
    "import input_data\n",
    "mnist = input_data.read_data_sets(\"/Users/Raj/Root/Code/TF/data/\", one_hot =True)"
   ]
  },
  {
   "cell_type": "code",
   "execution_count": 3,
   "metadata": {
    "collapsed": true
   },
   "outputs": [],
   "source": [
    "# Setting the  parameters\n",
    "\n",
    "# learning_rate Defines how fast we want to update our weights\n",
    "#    If the learning rate is too big our model might skip the solution\n",
    "#    and if it is too small we might need too many iterations to converge on the optimum result\n",
    "learning_rate = 0.01\n",
    "\n",
    "# setting the number of iterations\n",
    "training_iteration = 30\n",
    "\n",
    "batch_size = 100\n",
    "display_step = 2"
   ]
  },
  {
   "cell_type": "markdown",
   "metadata": {},
   "source": [
    "----"
   ]
  },
  {
   "cell_type": "code",
   "execution_count": 4,
   "metadata": {
    "collapsed": true
   },
   "outputs": [],
   "source": [
    "# TF graph input\n",
    "\n",
    "# We first create two placeholder operations, placeholder is the variable in which we will assign the data later\n",
    "#     Its never initialized and doesn't contain any data \n",
    "# We define the type and shape of the data as the parameters\n",
    "\n",
    "# Input image is x and will be represented by a 2D tensor of numbers - [None, 784]\n",
    "#    784 is the dimensionality of the single flattend MNIST image\n",
    "# Finding an image means converting a 2D array into an 1D array, by unstacking the rows and lining them up\n",
    "x = tf.placeholder(\"float\", [None, 784]) # mnist data image of shape 28*28=784\n",
    "\n",
    "# y is The output class and will consist of a 2D tensor as well, ...\n",
    "#    ...where each row is a one_hot 10 dimensional vector, showing which digit class the correspoding ...\n",
    "#    ...MNIST image belongs to\n",
    "y = tf.placeholder(\"float\", [None, 10]) # 0-9 digits recognition => 10 classes"
   ]
  },
  {
   "cell_type": "markdown",
   "metadata": {},
   "source": [
    "##### Start building the Model"
   ]
  },
  {
   "cell_type": "code",
   "execution_count": 5,
   "metadata": {
    "collapsed": true
   },
   "outputs": [],
   "source": [
    "# Define model weights and Biases\n",
    "\n",
    "# weights are the probabilities that affect how data flows in the graph and they get updated continuously ...\n",
    "#    ...during the training, so that our results get closer and closer to the right solution\n",
    "W = tf.Variable(tf.zeros([784, 10]))\n",
    "\n",
    "# The Bias lets us shift our regression line to better fit the data\n",
    "b = tf.Variable(tf.zeros([10])) "
   ]
  },
  {
   "cell_type": "code",
   "execution_count": 6,
   "metadata": {
    "collapsed": true
   },
   "outputs": [],
   "source": [
    "# Now we create the Name Scope\n",
    "# Scopes helps us organize the nodes in the graph visualizer called Tensor Board\n",
    "\n",
    "# In this case we create 3 scopes\n",
    "# In the first scope we Implement our model, Logistic Regression\n",
    "#    By matrix multiplying)(tf.matmul) the input images x by the weight matrix w and adding the Bias b\n",
    "with tf.name_scope(\"Wx_b\") as scope:\n",
    "    # Construct a linear model\n",
    "    model = tf.nn.softmax(tf.matmul(x, W) + b) # Softmax"
   ]
  },
  {
   "cell_type": "code",
   "execution_count": 7,
   "metadata": {
    "collapsed": true
   },
   "outputs": [],
   "source": [
    "# Now we create summary operations to help us visualize the distribution of our weights and biases later\n",
    "\n",
    "# Add summary ops to collect data\n",
    "w_h = tf.histogram_summary(\"weights\", W)\n",
    "b_h = tf.histogram_summary(\"biases\", b)"
   ]
  },
  {
   "cell_type": "code",
   "execution_count": 8,
   "metadata": {
    "collapsed": true
   },
   "outputs": [],
   "source": [
    "# In the second scope we will create our cost function which will help us minimize...\n",
    "#    ...our error during the training.\n",
    "# We use the cross entropy function \n",
    "\n",
    "# More name scopes will clean up graph representation\n",
    "with tf.name_scope(\"cost_function\") as scope:\n",
    "    # Minimize error using cross entropy\n",
    "    # Cross entropy\n",
    "    cost_function = -tf.reduce_sum(y*tf.log(model))\n",
    "    # Create a summary to monitor the cost function during training to visualize it later\n",
    "    tf.scalar_summary(\"cost_function\", cost_function)"
   ]
  },
  {
   "cell_type": "code",
   "execution_count": 9,
   "metadata": {
    "collapsed": true
   },
   "outputs": [],
   "source": [
    "# Our last scope is called train and it will create our optimization function that ...\n",
    "#    ...makes our model improve during training\n",
    "# And we use the popular Gradient descent algorith which takes our learning_rate as a parameter...\n",
    "#    ...for pacing and our cost_function as a parameter to help minimize the error\n",
    "\n",
    "with tf.name_scope(\"train\") as scope:\n",
    "    # Gradient descent\n",
    "    optimizer = tf.train.GradientDescentOptimizer(learning_rate).minimize(cost_function)"
   ]
  },
  {
   "cell_type": "code",
   "execution_count": 10,
   "metadata": {
    "collapsed": true
   },
   "outputs": [],
   "source": [
    "# Now that we have our graph built we will initialize all of our variables... \n",
    "\n",
    "# Initializing the variables\n",
    "init = tf.initialize_all_variables()"
   ]
  },
  {
   "cell_type": "code",
   "execution_count": 11,
   "metadata": {
    "collapsed": true
   },
   "outputs": [],
   "source": [
    "# ...then we will merge all of our summaries into a single operator\n",
    "\n",
    "# Merge all summaries into a single operator\n",
    "merged_summary_op = tf.merge_all_summaries()"
   ]
  },
  {
   "cell_type": "markdown",
   "metadata": {},
   "source": [
    "---"
   ]
  },
  {
   "cell_type": "code",
   "execution_count": 33,
   "metadata": {},
   "outputs": [
    {
     "name": "stdout",
     "output_type": "stream",
     "text": [
      "Iteration: 0001 cost= 30.299663545\n",
      "Iteration: 0003 cost= 21.055575721\n",
      "Iteration: 0005 cost= 20.229582314\n",
      "Iteration: 0007 cost= 19.583303084\n",
      "Iteration: 0009 cost= 19.397799475\n",
      "Iteration: 0011 cost= 19.174713563\n",
      "Iteration: 0013 cost= 19.003194635\n",
      "Iteration: 0015 cost= 18.762339751\n",
      "Iteration: 0017 cost= 18.705981298\n",
      "Iteration: 0019 cost= 18.533573470\n",
      "Iteration: 0021 cost= 18.376308702\n",
      "Iteration: 0023 cost= 18.301321989\n",
      "Iteration: 0025 cost= 18.183366535\n",
      "Iteration: 0027 cost= 18.121433715\n",
      "Iteration: 0029 cost= 18.110462751\n",
      "Tuning completed!\n",
      "Accuracy: 0.9191\n"
     ]
    }
   ],
   "source": [
    "# Now we are ready to launch our graph by initializing a session which lets us execute our data flow graph\n",
    "\n",
    "# LAUNCH THE GRAPH\n",
    "with tf.Session() as sess:\n",
    "    sess.run(init)\n",
    "\n",
    "    # We will then set our summary writer folder location which will later load data from ...\n",
    "    #    ...to visualize in tensor board\n",
    "    \n",
    "    # set the logs writer to the folder \n",
    "    summary_writer = tf.train.SummaryWriter('/Users/Raj/Root/Code/TF/logs/', graph=sess.graph)\n",
    "\n",
    "    \n",
    "    # TRAINING CYCLE\n",
    "\n",
    "    # lets set our for loop specified number of iterations(training_iteration) \n",
    "    for iteration in range(training_iteration):\n",
    "        # initialize the average cost which we will print out every so often to make sure...\n",
    "        #    ...our model is improving during training \n",
    "        avg_cost = 0.\n",
    "        # Now we will compute our batch size...\n",
    "        total_batch = int(mnist.train.num_examples/batch_size)\n",
    "        # ...and start training over each example in our training data\n",
    "        # Loop over all batches\n",
    "        for i in range(total_batch):\n",
    "            batch_xs, batch_ys = mnist.train.next_batch(batch_size)\n",
    "            # Fit training using batch data in the Gradeint descent algorithm for Back propogation\n",
    "            sess.run(optimizer, feed_dict={x: batch_xs, y: batch_ys})\n",
    "            # Compute the average loss\n",
    "            avg_cost += sess.run(cost_function, feed_dict={x: batch_xs, y: batch_ys})/total_batch\n",
    "            # Write logs for each iteration via the summary writer \n",
    "            summary_str = sess.run(merged_summary_op, feed_dict={x: batch_xs, y: batch_ys})\n",
    "            summary_writer.add_summary(summary_str, iteration*total_batch + i)\n",
    "        # Display logs per iteration step\n",
    "        if iteration % display_step == 0:\n",
    "            print(\"Iteration:\", '%04d' % (iteration + 1), \"cost=\", \"{:.9f}\".format(avg_cost))\n",
    "\n",
    "    print(\"Tuning completed!\")\n",
    "\n",
    "    # Test the model\n",
    "    predictions = tf.equal(tf.argmax(model, 1), tf.argmax(y, 1))\n",
    "    # Calculate accuracy\n",
    "    accuracy = tf.reduce_mean(tf.cast(predictions, \"float\"))\n",
    "    print(\"Accuracy:\", accuracy.eval({x: mnist.test.images, y: mnist.test.labels}))"
   ]
  },
  {
   "cell_type": "code",
   "execution_count": 34,
   "metadata": {},
   "outputs": [],
   "source": [
    "# Visualize the graph in tensor board\n",
    "# $ tensorboard --logdir = /Users/Raj/Root/Code/TF/logs/"
   ]
  },
  {
   "cell_type": "code",
   "execution_count": null,
   "metadata": {
    "collapsed": true
   },
   "outputs": [],
   "source": []
  },
  {
   "cell_type": "markdown",
   "metadata": {},
   "source": [
    "<a href=\"https://www.youtube.com/watch?v=2FmcHiLCwTU&list=PL2-dafEMk2A7EEME489DsI468AB0wQsMV&index=1&t=151s\">Reference<a/>"
   ]
  }
 ],
 "metadata": {
  "anaconda-cloud": {},
  "kernelspec": {
   "display_name": "Python [Root]",
   "language": "python",
   "name": "Python [Root]"
  },
  "language_info": {
   "codemirror_mode": {
    "name": "ipython",
    "version": 3
   },
   "file_extension": ".py",
   "mimetype": "text/x-python",
   "name": "python",
   "nbconvert_exporter": "python",
   "pygments_lexer": "ipython3",
   "version": "3.5.2"
  }
 },
 "nbformat": 4,
 "nbformat_minor": 1
}
